{
 "cells": [
  {
   "cell_type": "code",
   "execution_count": 8,
   "id": "381d4b25-aac5-42a4-8ddc-d0b9cc741d3d",
   "metadata": {},
   "outputs": [
    {
     "data": {
      "text/plain": [
       "14"
      ]
     },
     "execution_count": 8,
     "metadata": {},
     "output_type": "execute_result"
    }
   ],
   "source": [
    "mylist=[14, \"hello\", 967]\n",
    "#mylist[6]\n",
    "#Index error, possible indexes : 0,1,2\n",
    "mylist[0]\n"
   ]
  },
  {
   "cell_type": "code",
   "execution_count": 14,
   "id": "6e2b7658-bbac-468c-b3e5-a52d6e495c9f",
   "metadata": {},
   "outputs": [],
   "source": [
    "#import Pandas\n",
    "#import NumPy\n",
    "#Import module error / we can import pandas and numpy with the syntax below : \n",
    "import pandas as pd \n",
    "import numpy as np"
   ]
  },
  {
   "cell_type": "code",
   "execution_count": 15,
   "id": "5d56605a-fee1-4a41-9f00-036de57bc408",
   "metadata": {},
   "outputs": [
    {
     "name": "stdout",
     "output_type": "stream",
     "text": [
      "python errors\n"
     ]
    }
   ],
   "source": [
    "#Print\"python errors\"\n",
    "#syntax error, missing brackets \n",
    "print(\"python errors\")"
   ]
  },
  {
   "cell_type": "code",
   "execution_count": 16,
   "id": "30ff5b74-55a8-44de-bffe-a2d5b325aa05",
   "metadata": {},
   "outputs": [
    {
     "data": {
      "text/plain": [
       "'hello'"
      ]
     },
     "execution_count": 16,
     "metadata": {},
     "output_type": "execute_result"
    }
   ],
   "source": [
    "mydictionnary={True:\"hello\",False:\"bye\", '3':\"python\"}\n",
    "#mydictionnary['True']\n",
    "#True in the dictionnary is boolean value, if we want to print the boolean key we write the syntax :\n",
    "mydictionnary[True]"
   ]
  },
  {
   "cell_type": "code",
   "execution_count": 22,
   "id": "deb9a4d8-6bcb-4916-91ea-cd725ba70b15",
   "metadata": {},
   "outputs": [
    {
     "name": "stdout",
     "output_type": "stream",
     "text": [
      "14\n",
      "15\n",
      "16\n",
      "17\n",
      "18\n",
      "19\n",
      "20\n",
      "21\n",
      "22\n",
      "23\n",
      "24\n",
      "25\n",
      "26\n",
      "27\n",
      "28\n",
      "29\n",
      "30\n",
      "31\n",
      "32\n",
      "33\n",
      "34\n",
      "35\n",
      "36\n",
      "37\n",
      "38\n",
      "39\n",
      "40\n",
      "41\n",
      "42\n",
      "43\n",
      "44\n",
      "45\n",
      "46\n",
      "47\n",
      "48\n",
      "49\n",
      "50\n",
      "51\n",
      "52\n",
      "53\n",
      "54\n",
      "55\n",
      "56\n",
      "57\n",
      "58\n",
      "59\n",
      "60\n",
      "61\n",
      "62\n",
      "63\n",
      "64\n",
      "65\n",
      "66\n",
      "67\n",
      "68\n",
      "69\n",
      "70\n",
      "71\n",
      "72\n",
      "73\n",
      "74\n",
      "75\n",
      "76\n",
      "77\n"
     ]
    }
   ],
   "source": [
    "#Indetation error, print and i+=1 weren't in the loop\n",
    "i=14\n",
    "while i<78:\n",
    "    print(i)\n",
    "    i+=1"
   ]
  },
  {
   "cell_type": "code",
   "execution_count": 25,
   "id": "c180f48c-57cf-4bf3-80fd-6b2f21cdac26",
   "metadata": {},
   "outputs": [
    {
     "ename": "StopIteration",
     "evalue": "",
     "output_type": "error",
     "traceback": [
      "\u001b[1;31m---------------------------------------------------------------------------\u001b[0m",
      "\u001b[1;31mStopIteration\u001b[0m                             Traceback (most recent call last)",
      "Cell \u001b[1;32mIn[25], line 5\u001b[0m\n\u001b[0;32m      3\u001b[0m \u001b[38;5;28mnext\u001b[39m(it)\n\u001b[0;32m      4\u001b[0m \u001b[38;5;28mnext\u001b[39m(it)\n\u001b[1;32m----> 5\u001b[0m \u001b[38;5;28mnext\u001b[39m(it)\n",
      "\u001b[1;31mStopIteration\u001b[0m: "
     ]
    }
   ],
   "source": [
    "it=iter([1,2,3])\n",
    "next(it)\n",
    "next(it)\n",
    "next(it)\n",
    "#next(it) we cannot execute this for 4 times because we only have 3 elements 1,2,3"
   ]
  },
  {
   "cell_type": "code",
   "execution_count": 26,
   "id": "327ea32f-546b-4f5d-8aad-f373ccea2640",
   "metadata": {},
   "outputs": [
    {
     "data": {
      "text/plain": [
       "30"
      ]
     },
     "execution_count": 26,
     "metadata": {},
     "output_type": "execute_result"
    }
   ],
   "source": [
    "15+15\n",
    "#we cannot add '15'+15 impossible to concatenate 'str' and 'int' objects"
   ]
  },
  {
   "cell_type": "code",
   "execution_count": 27,
   "id": "035ed373-5887-453b-8e50-0ca75e03ee36",
   "metadata": {},
   "outputs": [
    {
     "data": {
      "text/plain": [
       "10"
      ]
     },
     "execution_count": 27,
     "metadata": {},
     "output_type": "execute_result"
    }
   ],
   "source": [
    "#int('python')\n",
    "#we cannot convert the string python to an integer, the int function expect a string with a valid integer \n",
    "int('10')"
   ]
  },
  {
   "cell_type": "code",
   "execution_count": 32,
   "id": "43425434-96fb-4124-9bad-a1fd68e2a9ae",
   "metadata": {},
   "outputs": [
    {
     "name": "stdout",
     "output_type": "stream",
     "text": [
      "i love gomycode\n"
     ]
    }
   ],
   "source": [
    "#Python\n",
    "#The error occurs because we are trying to use the name python as a variable, but it's not defined.\n",
    "python = 'i love gomycode'\n",
    "print(python)"
   ]
  },
  {
   "cell_type": "code",
   "execution_count": 31,
   "id": "4d800454-af6f-4c85-ab57-9e9609f1f59b",
   "metadata": {},
   "outputs": [
    {
     "name": "stdout",
     "output_type": "stream",
     "text": [
      "9.5\n"
     ]
    }
   ],
   "source": [
    "#x=19/0\n",
    "#python follows mathematics rules, so in this case it's impossible to divide by 0\n",
    "X=19/2\n",
    "print(X)\n"
   ]
  },
  {
   "cell_type": "code",
   "execution_count": null,
   "id": "87fcf649-99df-41b2-b2ff-67a496abfa9d",
   "metadata": {},
   "outputs": [],
   "source": []
  }
 ],
 "metadata": {
  "kernelspec": {
   "display_name": "Python 3 (ipykernel)",
   "language": "python",
   "name": "python3"
  },
  "language_info": {
   "codemirror_mode": {
    "name": "ipython",
    "version": 3
   },
   "file_extension": ".py",
   "mimetype": "text/x-python",
   "name": "python",
   "nbconvert_exporter": "python",
   "pygments_lexer": "ipython3",
   "version": "3.11.7"
  }
 },
 "nbformat": 4,
 "nbformat_minor": 5
}
